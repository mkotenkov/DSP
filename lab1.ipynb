{
 "cells": [
  {
   "cell_type": "markdown",
   "metadata": {
    "id": "7hYdOnEwjJVG"
   },
   "source": [
    "# <center> Практические задания по цифровой обработке сигналов </center>\n",
    "# <center> Первая лабораторная работа </center>\n"
   ]
  },
  {
   "cell_type": "markdown",
   "metadata": {
    "id": "rdyEgum5jJVL"
   },
   "source": [
    "В данной работе Вы познакомитесь с основными методами работы с аудиоданными в Python. Разбересь в том, как работает свертка, и примените пару интересных фильтров."
   ]
  },
  {
   "cell_type": "markdown",
   "metadata": {
    "id": "6XJFTkDRjJVM"
   },
   "source": [
    "# Задание 1. Работа с аудиофайлами в Python (1 балл)"
   ]
  },
  {
   "cell_type": "markdown",
   "metadata": {
    "id": "F6SsrCyQjJVN"
   },
   "source": [
    "## Теория\n",
    "\n",
    "Звук - это аналоговый сигнал. То есть он является непрерывным по времени и по значениям. Для того, чтобы работать со звуком на цифровом устройстве, надо преобразовать его в цифровое представление. Для этого надо разделить непрерывный сигнал на промежутки времени (дискретизация сигнала) и разбить непрерывные значения на интервалы (квантование сигнала). Выбраные параметры дискретизации и квантования сигнала напрямую влияют на качество цифрового сигнала. \n",
    "\n",
    "<!-- \n",
    "## Практика\n",
    "\n",
    "1. Что хранится в .wav файле? Как узнать параметры дискретизации и квантования .wav файла? \n",
    "\n",
    "2. Запишите аудиофайл со своим голосом. Загрузите его. Попробуйте поменять ему частоту дискретизации. Нарисуйте форму волны считанного файла. Воспроизведите полученные сигналы. При какой частоте дискретизации становится невозможно разобрать человеческую речь?   \n",
    "\n",
    "3. Чем .wav отличается от других кодеков, например .mp3 или .ogg? -->\n",
    "\n",
    "\n",
    "<!-- ### Подсказка\n",
    "\n",
    "Записать цифровой сигнал можно при помощи, например, [Audacity](https://www.audacityteam.org) или [Adobe Audition](https://www.adobe.com/ru/products/audition.html). Для считывания файлов воспользуйтесь библиотекой [scipy](https://www.scipy.org) или [librosa](https://librosa.org/doc/latest/index.html). Для воспроизведения аудиофайла удобно использовать класс Audio из модуля IPython.display, а для отрисовки - matplotlib. -->"
   ]
  },
  {
   "cell_type": "code",
   "execution_count": null,
   "metadata": {
    "id": "-5RMctKfjJVO"
   },
   "outputs": [],
   "source": [
    "import matplotlib.pyplot as plt\n",
    "import numpy as np\n",
    "%matplotlib inline"
   ]
  },
  {
   "cell_type": "markdown",
   "metadata": {
    "id": "agxgEkZsjUcb"
   },
   "source": [
    "### 1. Что хранится в .wav файле? Как узнать параметры дискретизации и квантования .wav файла?"
   ]
  },
  {
   "cell_type": "code",
   "execution_count": null,
   "metadata": {
    "id": "SvgyfjvYjj_Y"
   },
   "outputs": [],
   "source": [
    "# .wav файл содежит две области: заголовок и аудиоданные. В заголовке хранится количество каналов, параметры дискретизации и квантования, а также некоторые другие данные.\n",
    "\n",
    "# Узнать частоту сэмплирования и битность можно, например, так:\n",
    "\n",
    "import wave\n",
    "\n",
    "with wave.open('resources/lab1_16bits.wav') as f:\n",
    "    print(f.getparams())\n",
    "\n",
    "# Функция возвращает аналог named_tuple, в котором 'sampwidth' - количество байт на сэмпл, \"framerate\" - собственно, фреймрейт."
   ]
  },
  {
   "cell_type": "markdown",
   "metadata": {
    "id": "SR4-O3xxjeI6"
   },
   "source": [
    "### 2. Запишите аудиофайл со своим голосом. Загрузите его. Попробуйте поменять ему частоту дискретизации. Нарисуйте форму волны считанного файла. Воспроизведите полученные сигналы. При какой частоте дискретизации становится невозможно разобрать человеческую речь?"
   ]
  },
  {
   "cell_type": "markdown",
   "metadata": {
    "id": "a3MvhsVIkfQi"
   },
   "source": [
    "**Подсказка**\n",
    "\n",
    "Записать цифровой сигнал можно при помощи, например, [Audacity](https://www.audacityteam.org) или [Adobe Audition](https://www.adobe.com/ru/products/audition.html). Для считывания файлов воспользуйтесь библиотекой [scipy](https://www.scipy.org) или [librosa](https://librosa.org/doc/latest/index.html). Для воспроизведения аудиофайла удобно использовать класс Audio из модуля IPython.display, а для отрисовки - matplotlib."
   ]
  },
  {
   "cell_type": "code",
   "execution_count": null,
   "metadata": {
    "ExecuteTime": {
     "end_time": "2021-01-25T10:23:49.909497Z",
     "start_time": "2021-01-25T10:23:49.907091Z"
    },
    "id": "EH7njhvejJVP"
   },
   "outputs": [],
   "source": [
    "# передискретизация\n",
    "import numpy as np\n",
    "\n",
    "desirable_SR = 20000  # желаемая частота дискретизации\n",
    "\n",
    "with wave.open('resources/lab1_my_voice.wav') as f:\n",
    "    with wave.open('resources/lab1_my_voice_processed.wav', 'wb') as g:\n",
    "        data = f.readframes(-1)\n",
    "\n",
    "        PARAMS = (2, 2, desirable_SR, f.getnframes(), 'NONE', 'not compressed')\n",
    "        g.setparams(PARAMS)\n",
    "        g.writeframes(data)\n",
    "\n",
    "        Stereo = np.reshape(np.frombuffer(data, np.int16),\n",
    "                            (-1, 2))  # левый канал - в первом столбце, правый - во втором\n",
    "        Left, Right = Stereo[:, 0], Stereo[:, 1]"
   ]
  },
  {
   "cell_type": "code",
   "execution_count": null,
   "outputs": [],
   "source": [
    "# Вопроизведение\n",
    "from IPython.display import Audio\n",
    "Audio([Left, Right], rate=desirable_SR, autoplay=True)\n",
    "# При частоте дискретизации в 20000 мою речь невозможно разобрать"
   ],
   "metadata": {
    "collapsed": false
   }
  },
  {
   "cell_type": "code",
   "execution_count": null,
   "outputs": [],
   "source": [
    "# График\n",
    "plt.plot(Left)\n",
    "plt.show()"
   ],
   "metadata": {
    "collapsed": false
   }
  },
  {
   "cell_type": "markdown",
   "metadata": {
    "id": "SShpe0Ivjpyq"
   },
   "source": [
    "### 3. Чем .wav отличается от других кодеков, например .mp3 или .ogg?"
   ]
  },
  {
   "cell_type": "code",
   "execution_count": null,
   "metadata": {
    "id": "Na_EHXwojsQs"
   },
   "outputs": [],
   "source": [
    "# .wav файл хранит несжатые данные"
   ]
  },
  {
   "cell_type": "markdown",
   "metadata": {
    "id": "_qddJL3SjJVQ"
   },
   "source": [
    "# Задание 2. Гармонические сигналы (1 балл)"
   ]
  },
  {
   "cell_type": "markdown",
   "metadata": {
    "id": "LVRP-2XbjJVR"
   },
   "source": [
    "## Теория\n",
    "[Гармонические колебания](https://ru.wikipedia.org/wiki/Гармонические_колебания) -  колебания, при которых физическая величина изменяется с течением времени по гармоническому (синусоидальному/косинусоидальному) закону. \n",
    "\n",
    "В общем случае гармонические колебания задаются формулой:\n",
    "\n",
    "$$y=A \\cos(\\omega t+\\varphi_0)$$\n",
    "\n",
    "где $А$ - это амплитуда, $\\omega$ – циклическая частота (радиан/с), $\\varphi$ - фаза (сдвиг), $t$ – время. \n"
   ]
  },
  {
   "cell_type": "code",
   "execution_count": null,
   "metadata": {
    "ExecuteTime": {
     "end_time": "2021-01-25T10:53:42.877034Z",
     "start_time": "2021-01-25T10:53:42.461660Z"
    },
    "id": "JNuWAeyijJVS"
   },
   "outputs": [],
   "source": [
    "# Сначала определим функцию для отрисовки сигнала с хорошим масштабом и сеткой\n",
    "# Это поможет легче анализировать сигнал\n",
    "def draw_signal(data, figsize=(14, 14)):\n",
    "    plt.figure(figsize=figsize)\n",
    "    plt.plot(data, linewidth=2)\n",
    "    plt.minorticks_on()\n",
    "    plt.xticks(np.arange(0, 1000, step=100))\n",
    "    plt.yticks(np.arange((data.min().round()) // 10 * 10,\n",
    "                         (data.max().round()) // 10 * 10 + 10, step=5))\n",
    "    plt.grid(which='major',\n",
    "             color='k',\n",
    "             linewidth=1)\n",
    "    plt.grid(which='minor',\n",
    "             color='k',\n",
    "             linestyle=':')\n",
    "    plt.show()"
   ]
  },
  {
   "cell_type": "code",
   "execution_count": null,
   "metadata": {
    "ExecuteTime": {
     "end_time": "2021-01-25T10:53:18.422257Z",
     "start_time": "2021-01-25T10:53:18.358676Z"
    },
    "id": "IEvhv6JSjJVT"
   },
   "outputs": [],
   "source": [
    "# Читаем данные с подготовленными сигналами\n",
    "import pickle\n",
    "\n",
    "with open(\"resources/data.pickle\", \"rb\") as f:\n",
    "    test_data = pickle.load(f)\n",
    "# Теперь можно приступать к практике!"
   ]
  },
  {
   "cell_type": "markdown",
   "metadata": {
    "id": "cqBDWNQZjJVT"
   },
   "source": [
    "## Практика\n",
    "\n",
    "Постройте графики трех сигналов a, b и c из test_data['task2']. Попробуйте подобрать коэффициенты для этих сигналов. Сгенерируйте сигналы (1000 отсчетов) с подобранными коэффициентами. Постройте графики сгенерированных сигналов и пройдите тест на схожесть с оригинальным.\n",
    "\n",
    "\n",
    "Подсказка. Фаза, период и амплитуда сигнала - целочисленные. Для генерации пользуйтесь библиотекой numpy и функциями arange, sin, cos."
   ]
  },
  {
   "cell_type": "markdown",
   "metadata": {
    "id": "VJNRU07Bk572"
   },
   "source": [
    "### Сигнал ***a***"
   ]
  },
  {
   "cell_type": "code",
   "execution_count": null,
   "metadata": {
    "id": "52HUlapIjJVU",
    "pycharm": {
     "is_executing": true
    }
   },
   "outputs": [],
   "source": [
    "draw_signal(test_data['task2']['a'])"
   ]
  },
  {
   "cell_type": "code",
   "execution_count": null,
   "metadata": {
    "id": "31S2B1uqjJVU"
   },
   "outputs": [],
   "source": [
    "amp = 45\n",
    "T = 425\n",
    "freq = 2 * np.pi / T\n",
    "phase = 0\n",
    "\n",
    "t = np.arange(0, 1000)\n",
    "a = amp * np.cos(t * freq + phase)"
   ]
  },
  {
   "cell_type": "code",
   "execution_count": null,
   "metadata": {
    "id": "MMdA-lbUjJVU"
   },
   "outputs": [],
   "source": [
    "draw_signal(a)"
   ]
  },
  {
   "cell_type": "code",
   "execution_count": null,
   "metadata": {
    "id": "AmG42RRujJVU"
   },
   "outputs": [],
   "source": [
    "assert len(a) == 1000\n",
    "assert np.allclose(a, test_data[\"task2\"][\"a\"], atol=1)\n",
    "print(\"Ok!\")"
   ]
  },
  {
   "cell_type": "markdown",
   "metadata": {
    "id": "LQEbk57zlHqi"
   },
   "source": [
    "**Подобранные коэффициенты для сигнала 'a':**\n",
    "\n",
    "1. Амплитуда - $A= 45 $\n",
    "\n",
    "2. Угловая частота ($ \\displaystyle\\omega =\\frac{2\\pi}{T}) = \\frac{2\\pi}{425}$\n",
    "\n",
    "3. Фаза - $\\phi= 0 $"
   ]
  },
  {
   "cell_type": "markdown",
   "metadata": {
    "id": "-6qPslUclBmo"
   },
   "source": [
    "### Сигнал ***b***"
   ]
  },
  {
   "cell_type": "code",
   "execution_count": null,
   "metadata": {
    "id": "4eptNt05jJVV"
   },
   "outputs": [],
   "source": [
    "draw_signal(test_data['task2']['b'])"
   ]
  },
  {
   "cell_type": "code",
   "execution_count": null,
   "metadata": {
    "id": "vaidO0wojJVV"
   },
   "outputs": [],
   "source": [
    "amp = 50\n",
    "T = 100\n",
    "freq = 2 * np.pi / T\n",
    "phase = 0\n",
    "\n",
    "t = np.arange(0, 1000)\n",
    "b = amp * np.sin(t * freq + phase)"
   ]
  },
  {
   "cell_type": "code",
   "execution_count": null,
   "metadata": {
    "id": "jF3UhfxWllkE"
   },
   "outputs": [],
   "source": [
    "draw_signal(b)"
   ]
  },
  {
   "cell_type": "code",
   "execution_count": null,
   "metadata": {
    "id": "8wI1WHqLjJVV"
   },
   "outputs": [],
   "source": [
    "assert len(b) == 1000\n",
    "assert np.allclose(b, test_data[\"task2\"][\"b\"], atol=1)\n",
    "print(\"Ok!\")"
   ]
  },
  {
   "cell_type": "markdown",
   "metadata": {
    "id": "w2S76chkld_a"
   },
   "source": [
    "**Подобранные коэффициенты для сигнала 'b':**\n",
    "\n",
    "1. Амплитуда - $A= 50$\n",
    "\n",
    "2. Угловая частота ($ \\displaystyle\\omega =\\frac{2\\pi}{T}) = \\frac{2\\pi}{100}$\n",
    "\n",
    "3. Фаза - $\\phi= 0 $ (использован синус; 3pi/2, если использовать косинус.\n",
    "Если необходимо целое число, то прибавляем 2pi к 3pi/2 до тех пор, пока не получим число, достаточно близкое к целому. Например, 58250335"
   ]
  },
  {
   "cell_type": "markdown",
   "metadata": {
    "id": "UM1BX9e7lrj6"
   },
   "source": [
    "### Сигнал ***c***"
   ]
  },
  {
   "cell_type": "code",
   "execution_count": null,
   "metadata": {
    "id": "QgjGfOFzjJVW"
   },
   "outputs": [],
   "source": [
    "draw_signal(test_data['task2']['c'])"
   ]
  },
  {
   "cell_type": "code",
   "execution_count": null,
   "metadata": {
    "id": "RwpM7lPnjJVW"
   },
   "outputs": [],
   "source": [
    "# сигнал состоит из двух гармоник\n",
    "t = np.arange(0, 1000)\n",
    "\n",
    "amp1 = -50\n",
    "T1 = 100\n",
    "freq1 = 2 * np.pi / T1\n",
    "phase1 = 0\n",
    "first = amp1 * np.sin(t * freq1 + phase1)\n",
    "\n",
    "amp2 = 45\n",
    "T2 = 425\n",
    "freq2 = 2 * np.pi / T2\n",
    "phase2 = 0\n",
    "second = amp2 * np.cos(t * freq2 + phase2)\n",
    "\n",
    "c = first + second\n",
    "draw_signal(c)"
   ]
  },
  {
   "cell_type": "code",
   "execution_count": null,
   "metadata": {
    "id": "Fwg_TXwwjJVX"
   },
   "outputs": [],
   "source": [
    "assert len(c) == 1000\n",
    "assert np.allclose(c, test_data[\"task2\"][\"c\"], atol=1)\n",
    "print(\"Ok!\")"
   ]
  },
  {
   "cell_type": "markdown",
   "metadata": {
    "id": "na5s-M4ijJVX"
   },
   "source": [
    "# Задание 3. Свертка (3 балла)"
   ]
  },
  {
   "cell_type": "markdown",
   "metadata": {
    "id": "slFLBa1DjJVX"
   },
   "source": [
    "## Теория\n",
    "Одна из наиболее частых операций, которая выполняется при обработке сигналов, это свёртка. Свёртка имеет много различных применений, например, с ее помощью можно убрать из сигнала шумы или применить к сигналу эффект эхо.\n",
    "\n",
    "\n",
    "Свёртка — это математическая операция, применённая к двум функциям f и g и порождающая третью функцию. Операцию свёртки можно интерпретировать как «схожесть» одной функции с отражённой и сдвинутой копией другой.  Другими словами, преобразование свёртки однозначно определяет выходной сигнал y(t) для установленного значения входного сигнала x(t) при известном значении функции импульсного отклика системы h(t).\n",
    "\n",
    "<!-- ![Convolution](resources/Convolution_of_box_signal_with_itself2.gif \"Convolution\") -->\n",
    "![Convolution](resources/Convolution_of_box_signal_with_itself2.gif \"Convolution\")\n",
    "\n",
    "Формула свёртки:\n",
    "$$y_t=\\frac{1}{2} \\int_0^T x(\\tau)h(t-τ)dτ$$\n",
    "где $\\tau$  - длительность импульсной переходной характеристики.\n",
    "\n",
    "## Практика\n",
    "Реализуйте операцию свёртки. Сравните её с существующей реализацией scipy.signal.convolve. Постройте графики фильтра, исходного сигнала и результата свертки."
   ]
  },
  {
   "cell_type": "code",
   "execution_count": null,
   "metadata": {
    "id": "R3ZbEmaUjJVY"
   },
   "outputs": [],
   "source": [
    "def m(arr1, arr2):\n",
    "    assert len(arr1) == len(arr2)\n",
    "    res = 0\n",
    "    for x, y in zip(arr1, arr2):\n",
    "        res += x * y\n",
    "\n",
    "    return res\n",
    "\n",
    "\n",
    "def convolve(in1, in2):\n",
    "    result = []\n",
    "    l1 = len(in1)\n",
    "    l2 = len(in2)\n",
    "\n",
    "    np.flip(in2)\n",
    "\n",
    "    i = 0\n",
    "    while i < l1 + l2 - 1:\n",
    "        start1 = i - l2 + 1 if i >= l2 else 0\n",
    "        end1 = i + 1 if i < l1 else l1\n",
    "        start2 = l2 - i - 1 if i <= l2 - 1 else 0\n",
    "        end2 = l2 + l1 - i - 1 if i >= l1 else l2\n",
    "        result.append(m(in1[start1:end1], in2[start2:end2]))\n",
    "        i += 1\n",
    "\n",
    "    return result"
   ]
  },
  {
   "cell_type": "code",
   "execution_count": null,
   "metadata": {
    "id": "8B6P8pAtjJVY"
   },
   "outputs": [],
   "source": [
    "import scipy\n",
    "\n",
    "def test_convolve(a, b, print_debug=False):\n",
    "    my_result = convolve(a, b)\n",
    "    scipy_result = scipy.signal.convolve(a, b, method='direct')\n",
    "    if print_debug:\n",
    "        print(f\"Your result {my_result}\")\n",
    "        print(f\"Scipy result {scipy_result}\")\n",
    "    assert np.allclose(my_result, scipy_result), f\"Test {a} conv {b} failed\"\n",
    "    print(\"Ok!\")"
   ]
  },
  {
   "cell_type": "code",
   "execution_count": null,
   "metadata": {
    "id": "1khvOTwhjJVY"
   },
   "outputs": [],
   "source": [
    "a = np.repeat([0, 1, 0], 10)\n",
    "b = np.array([0, 1, 2, 3, 2, 1, 0])"
   ]
  },
  {
   "cell_type": "code",
   "execution_count": null,
   "metadata": {
    "id": "GxYDABzpjJVa"
   },
   "outputs": [],
   "source": [
    "test_convolve(a, b, print_debug=False)"
   ]
  },
  {
   "cell_type": "markdown",
   "metadata": {
    "id": "9ofXqGB_mVMK"
   },
   "source": [
    "### Нарисуйте результат свертки a и b"
   ]
  },
  {
   "cell_type": "markdown",
   "metadata": {
    "id": "1vMjr5KOmZEA"
   },
   "source": [
    "Сигнал **а**"
   ]
  },
  {
   "cell_type": "code",
   "execution_count": null,
   "metadata": {
    "id": "fSFFYzI0mb4R"
   },
   "outputs": [],
   "source": [
    "plt.plot(a)\n",
    "plt.show()"
   ]
  },
  {
   "cell_type": "markdown",
   "metadata": {
    "id": "N-G9XZmAmeHH"
   },
   "source": [
    "Сигнал **b**"
   ]
  },
  {
   "cell_type": "code",
   "execution_count": null,
   "metadata": {
    "id": "GCImaL0emfNE"
   },
   "outputs": [],
   "source": [
    "plt.plot(b)\n",
    "plt.show()"
   ]
  },
  {
   "cell_type": "markdown",
   "metadata": {
    "id": "-AMtXMSAmfqB"
   },
   "source": [
    "Свертка **a** и **b**"
   ]
  },
  {
   "cell_type": "code",
   "execution_count": null,
   "metadata": {
    "id": "Bp7QkUkCmioG"
   },
   "outputs": [],
   "source": [
    "plt.plot(convolve(a, b))\n",
    "plt.show()"
   ]
  },
  {
   "cell_type": "markdown",
   "metadata": {
    "id": "QXCjOpUGmtIk"
   },
   "source": [
    "Все 3 графика на одной картинке:"
   ]
  },
  {
   "cell_type": "code",
   "execution_count": null,
   "metadata": {
    "id": "9T55MbT_muWc"
   },
   "outputs": [],
   "source": [
    "c = convolve(a, b)\n",
    "x1 = np.arange(0, len(a))\n",
    "x2 = np.arange(0, len(b))\n",
    "x3 = np.arange(0, len(c))\n",
    "\n",
    "plt.plot(x1, a, '-', x2, b, '--', x3, c, '-.')\n",
    "plt.show()"
   ]
  },
  {
   "cell_type": "markdown",
   "metadata": {
    "id": "gupU8FrRjJVa"
   },
   "source": [
    "# Задание 4. * Алгоритм Карплуса-Стронга \n",
    "\n",
    "Реализуйте  [Алгоритм Карплуса-Стронга](https://en.wikipedia.org/wiki/Karplus%E2%80%93Strong_string_synthesis). В качестве фильтра используйте усреднитель двух смежных отсчетов. Проверьте результат. \n",
    "\n",
    "Отрисуйте и воспроизведите полученный сигнал. На что влияют параметры генерации? Попробуйте имитировать звучание разных струн гитары."
   ]
  },
  {
   "cell_type": "code",
   "execution_count": null,
   "outputs": [],
   "source": [
    "def lowpass_filter(a):\n",
    "    res = np.array([a[0]])\n",
    "    for i in range(1, len(a)):\n",
    "        res = np.append(res, (a[i] + a[i - 1]) // 2)\n",
    "    return res\n",
    "\n",
    "def delay(data, N):\n",
    "    if len(data) > N:\n",
    "        return data\n",
    "    else:\n",
    "        return delay(np.append(data, lowpass_filter(data)), N)\n",
    "\n",
    "def karplus_strong(noise, N):\n",
    "    return delay(noise, N)[:N]"
   ],
   "metadata": {
    "collapsed": false
   }
  },
  {
   "cell_type": "code",
   "execution_count": null,
   "metadata": {
    "ExecuteTime": {
     "end_time": "2021-01-25T10:07:15.153526Z",
     "start_time": "2021-01-25T10:07:15.052187Z"
    },
    "id": "3WVOV59_jJVa"
   },
   "outputs": [],
   "source": [
    "np.random.seed(seed=1)\n",
    "sample_rate = 44100\n",
    "frequency = 82.41\n",
    "sec = 2\n",
    "gen_len = sample_rate * sec\n",
    "noise = (2 * np.random.uniform(-1, 1, int(sample_rate / frequency)))  # [-1, 1]\n",
    "\n",
    "gen_wav = karplus_strong(noise, gen_len)\n",
    "\n",
    "assert np.allclose(gen_wav[:len(noise)], noise), \"Generated signal must starting with noise\"\n",
    "assert np.allclose(gen_wav[len(noise)], (noise[0]) / 2), \"Out of range samples eq 0.\"\n",
    "assert np.allclose(gen_wav[len(noise) + 1: 2 * len(noise)],\n",
    "                   (noise[:-1] + noise[1:]) / 2), \"Bad requrent rule( 1 iteration)\"\n",
    "assert np.allclose(gen_wav[2 * len(noise)], (noise[0] / 2 + noise[-1]) / 2), \"Bad requrent rule( 2 iteration)\"\n",
    "assert np.allclose(gen_wav[2 * len(noise) + 2: 3 * len(noise)], (\n",
    "        ((noise[:-1] + noise[1:]) / 2)[:-1] + ((noise[:-1] + noise[1:]) / 2)[\n",
    "                                              1:]) / 2), \"Bad requrent rule( 3 iteration)\"\n",
    "print('All Ok!')"
   ]
  },
  {
   "cell_type": "markdown",
   "metadata": {
    "id": "c8-zZZMQnU1k"
   },
   "source": [
    "### Попробуем покрутить параметры генерации"
   ]
  },
  {
   "cell_type": "markdown",
   "metadata": {
    "id": "0PpLnhfnnfKi"
   },
   "source": [
    "Сгенерируем гитарные ноты:"
   ]
  },
  {
   "cell_type": "code",
   "execution_count": null,
   "metadata": {
    "id": "24eNznwtjJVb"
   },
   "outputs": [],
   "source": [
    "# YOUR CODE HERE"
   ]
  },
  {
   "cell_type": "markdown",
   "metadata": {
    "id": "3iAhlgUXnoXh"
   },
   "source": [
    "Визуализируем затухание амплитуды:"
   ]
  },
  {
   "cell_type": "code",
   "execution_count": null,
   "metadata": {
    "id": "Ky2eym23nq0n"
   },
   "outputs": [],
   "source": [
    "plt.figure(figsize=(10, 5))\n",
    "plt.xlabel('n', fontsize=14)\n",
    "plt.ylabel('Амплитуда', fontsize=14)\n",
    "plt.xlim(0, gen_len)\n",
    "plt.plot(np.linspace(0, gen_len + 1, gen_len), gen_wav)\n",
    "plt.tick_params(axis='both', which='major', labelsize=14)\n",
    "plt.grid()"
   ]
  },
  {
   "cell_type": "markdown",
   "metadata": {
    "id": "TlTng42knwVA"
   },
   "source": [
    "Визуализируйте затухание амплитуд гитарных нот:"
   ]
  },
  {
   "cell_type": "code",
   "execution_count": null,
   "metadata": {
    "id": "jHGtsvDEn5OG"
   },
   "outputs": [],
   "source": [
    "# YOUR CODE HERE"
   ]
  }
 ],
 "metadata": {
  "colab": {
   "collapsed_sections": [],
   "name": "lab1.ipynb",
   "provenance": []
  },
  "kernelspec": {
   "display_name": "Python 3 (ipykernel)",
   "language": "python",
   "name": "python3"
  },
  "language_info": {
   "codemirror_mode": {
    "name": "ipython",
    "version": 3
   },
   "file_extension": ".py",
   "mimetype": "text/x-python",
   "name": "python",
   "nbconvert_exporter": "python",
   "pygments_lexer": "ipython3",
   "version": "3.9.6"
  }
 },
 "nbformat": 4,
 "nbformat_minor": 1
}
