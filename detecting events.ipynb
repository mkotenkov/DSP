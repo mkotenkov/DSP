{
 "cells": [
  {
   "cell_type": "code",
   "execution_count": 96,
   "metadata": {
    "collapsed": true
   },
   "outputs": [],
   "source": [
    "import os\n",
    "\n",
    "import librosa\n",
    "from sklearn import svm\n",
    "import sklearn.model_selection as model_selection\n",
    "from sklearn.metrics import accuracy_score\n",
    "from sklearn.metrics import f1_score\n",
    "import numpy as np\n",
    "import pandas as pd\n",
    "from statistics import mode"
   ]
  },
  {
   "cell_type": "code",
   "execution_count": 81,
   "outputs": [],
   "source": [
    "TRAIN_CSV_PATH = '/Users/maksimkoltugin/Desktop/код/ВШЭ ЦОС/Акустические события/train.csv'\n",
    "TRAIN_WAV_FOLDER_PATH = '/Users/maksimkoltugin/Desktop/код/ВШЭ ЦОС/Акустические события/train'\n",
    "SAMPLES_PER_WINDOW = 22050\n",
    "HOP_SLICING = 11025  # number of samples per time-step in slicing audio\n",
    "HOP_SPEC = 1024  # number of samples per time-step in spectrogram\n",
    "N_MELS = 100  # number of bins in spectrogram"
   ],
   "metadata": {
    "collapsed": false
   }
  },
  {
   "cell_type": "code",
   "execution_count": 82,
   "outputs": [],
   "source": [
    "train_csv = pd.read_csv(TRAIN_CSV_PATH)\n",
    "train_csv.sort_values(by=['fname'], inplace=True)\n",
    "\n",
    "os.chdir(TRAIN_WAV_FOLDER_PATH)\n",
    "sorted_wav_names = sorted(os.listdir())\n",
    "\n",
    "X_train, X_test, Y_train, Y_test = model_selection.train_test_split(sorted_wav_names[1:], list(train_csv['label']), train_size=0.70, test_size=0.30,                   random_state=101)  # [1:] to avoid \".DS_STORE\" file\n",
    "\n",
    "N = len(X_train)"
   ],
   "metadata": {
    "collapsed": false
   }
  },
  {
   "cell_type": "code",
   "execution_count": 119,
   "outputs": [
    {
     "name": "stdout",
     "output_type": "stream",
     "text": [
      "0 from 3978\n",
      "300 from 3978\n",
      "600 from 3978\n",
      "900 from 3978\n",
      "1200 from 3978\n",
      "1500 from 3978\n",
      "1800 from 3978\n",
      "2100 from 3978\n",
      "2400 from 3978\n",
      "2700 from 3978\n",
      "3000 from 3978\n",
      "3300 from 3978\n",
      "3600 from 3978\n",
      "3900 from 3978\n"
     ]
    }
   ],
   "source": [
    "X_long = [] # contains lots of windows for every .wav file\n",
    "Y_long = [] # contains a class for every window\n",
    "\n",
    "for i, (name, target) in enumerate(zip(X_train, Y_train)):\n",
    "    sound, sr = librosa.load(os.path.join(TRAIN_WAV_FOLDER_PATH, name))\n",
    "\n",
    "    if len(sound) % SAMPLES_PER_WINDOW != 0:\n",
    "        length = (len(sound) // SAMPLES_PER_WINDOW + 1) * SAMPLES_PER_WINDOW\n",
    "        sound = np.pad(sound, (0, length - len(sound)))\n",
    "\n",
    "    for s in range(0, len(sound) - SAMPLES_PER_WINDOW + HOP_SLICING, HOP_SLICING):\n",
    "        window = sound[s:s + SAMPLES_PER_WINDOW]\n",
    "\n",
    "        mels = librosa.feature.melspectrogram(y=window, sr=sr, n_mels=N_MELS, n_fft=HOP_SPEC * 2,\n",
    "                                              hop_length=HOP_SPEC)\n",
    "        mels = np.log(mels + 1e-9)  # adding small number to avoid log(0)\n",
    "\n",
    "        X_long.append(mels.flatten())\n",
    "        Y_long.append(target)\n",
    "\n",
    "    if i % 300 == 0:\n",
    "        print(i, 'from', N)"
   ],
   "metadata": {
    "collapsed": false
   }
  },
  {
   "cell_type": "code",
   "execution_count": 122,
   "outputs": [],
   "source": [
    "model = svm.SVC(kernel='poly', degree=3).fit(X_long, Y_long)"
   ],
   "metadata": {
    "collapsed": false
   }
  },
  {
   "cell_type": "code",
   "execution_count": 123,
   "outputs": [
    {
     "name": "stdout",
     "output_type": "stream",
     "text": [
      "0 from 1705\n",
      "100 from 1705\n",
      "200 from 1705\n",
      "300 from 1705\n",
      "400 from 1705\n",
      "500 from 1705\n",
      "600 from 1705\n",
      "700 from 1705\n",
      "800 from 1705\n",
      "900 from 1705\n",
      "1000 from 1705\n",
      "1100 from 1705\n",
      "1200 from 1705\n",
      "1300 from 1705\n",
      "1400 from 1705\n",
      "1500 from 1705\n",
      "1600 from 1705\n",
      "1700 from 1705\n"
     ]
    }
   ],
   "source": [
    "Windows_start = [None for _ in range(len(X_test))]\n",
    "Windows_end = [None for _ in range(len(X_test))]\n",
    "X_long_test = [] # contains lots of windows for every test .wav file\n",
    "\n",
    "k = 0\n",
    "for i, name in enumerate(X_test):\n",
    "    sound, sr = librosa.load(os.path.join(TRAIN_WAV_FOLDER_PATH, name))\n",
    "\n",
    "    if len(sound) % SAMPLES_PER_WINDOW != 0:\n",
    "        length = (len(sound) // SAMPLES_PER_WINDOW + 1) * SAMPLES_PER_WINDOW\n",
    "        sound = np.pad(sound, (0, length - len(sound)))\n",
    "\n",
    "    Windows_start[i] = k\n",
    "    for s in range(0, len(sound) - SAMPLES_PER_WINDOW + HOP_SLICING, HOP_SLICING):\n",
    "        window = sound[s:s + SAMPLES_PER_WINDOW]\n",
    "\n",
    "        mels = librosa.feature.melspectrogram(y=window, sr=sr, n_mels=N_MELS, n_fft=HOP_SPEC * 2,\n",
    "                                              hop_length=HOP_SPEC)\n",
    "        mels = np.log(mels + 1e-9)\n",
    "        X_long_test.append(mels.flatten())\n",
    "        k += 1\n",
    "    Windows_end[i] = k\n",
    "\n",
    "    if i % 100 == 0:\n",
    "        print(i, 'from', len(X_test))\n",
    "\n",
    "raw = model.predict(X_long_test)\n",
    "predict = []\n",
    "for i in range(len(X_test)):\n",
    "    predict.append(mode(raw[Windows_start[i]:Windows_end[i]]))"
   ],
   "metadata": {
    "collapsed": false
   }
  },
  {
   "cell_type": "code",
   "execution_count": 124,
   "outputs": [
    {
     "name": "stdout",
     "output_type": "stream",
     "text": [
      "Accuracy: 0.509090909090909\n",
      "F1: 0.5021378948697343\n"
     ]
    }
   ],
   "source": [
    "accuracy = accuracy_score(Y_test, predict)\n",
    "f1 = f1_score(Y_test, predict, average='weighted')\n",
    "print(f'Accuracy: {accuracy}')\n",
    "print(f'F1: {f1}')"
   ],
   "metadata": {
    "collapsed": false
   }
  },
  {
   "cell_type": "code",
   "execution_count": null,
   "outputs": [],
   "source": [],
   "metadata": {
    "collapsed": false
   }
  },
  {
   "cell_type": "code",
   "execution_count": null,
   "outputs": [],
   "source": [],
   "metadata": {
    "collapsed": false
   }
  }
 ],
 "metadata": {
  "kernelspec": {
   "display_name": "Python 3",
   "language": "python",
   "name": "python3"
  },
  "language_info": {
   "codemirror_mode": {
    "name": "ipython",
    "version": 2
   },
   "file_extension": ".py",
   "mimetype": "text/x-python",
   "name": "python",
   "nbconvert_exporter": "python",
   "pygments_lexer": "ipython2",
   "version": "2.7.6"
  }
 },
 "nbformat": 4,
 "nbformat_minor": 0
}
